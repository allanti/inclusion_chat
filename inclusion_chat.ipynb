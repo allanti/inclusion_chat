{
  "nbformat": 4,
  "nbformat_minor": 0,
  "metadata": {
    "colab": {
      "provenance": [],
      "authorship_tag": "ABX9TyPYID4w359ULRJHV3m5aGl0",
      "include_colab_link": true
    },
    "kernelspec": {
      "name": "python3",
      "display_name": "Python 3"
    },
    "language_info": {
      "name": "python"
    }
  },
  "cells": [
    {
      "cell_type": "markdown",
      "metadata": {
        "id": "view-in-github",
        "colab_type": "text"
      },
      "source": [
        "<a href=\"https://colab.research.google.com/github/allanti/inclusion_chat/blob/main/inclusion_chat.ipynb\" target=\"_parent\"><img src=\"https://colab.research.google.com/assets/colab-badge.svg\" alt=\"Open In Colab\"/></a>"
      ]
    },
    {
      "cell_type": "code",
      "execution_count": 1,
      "metadata": {
        "id": "RjM3gWoGxM1M"
      },
      "outputs": [],
      "source": [
        "pip install -q -U google-generativeai"
      ]
    },
    {
      "cell_type": "code",
      "source": [
        "import google.generativeai as genai\n",
        "import textwrap\n",
        "from IPython.display import display\n",
        "from IPython.display import Markdown\n",
        "from google.colab import userdata\n",
        "\n",
        "api_key = userdata.get('SECRET_KEY')\n",
        "genai.configure(api_key=api_key)\n",
        "\n",
        "generation_config = {\n",
        "    \"candidate_count\": 1,\n",
        "    \"temperature\":0.5\n",
        "}\n",
        "\n",
        "safety_settings = {\n",
        "    \"HARASSMENT\": \"BLOCK_NONE\",\n",
        "    \"HATE\": \"BLOCK_NONE\",\n",
        "    \"SEXUAL\": \"BLOCK_NONE\",\n",
        "    \"DANGEROUS\": \"BLOCK_NONE\",\n",
        "}\n",
        "\n",
        "model = genai.GenerativeModel(model_name=\"gemini-1.0-pro\",\n",
        "                              generation_config = generation_config,\n",
        "                              safety_settings = safety_settings)\n",
        "\n",
        "chat = model.start_chat()\n",
        "\n",
        "display(Markdown(\"**Olá, seja bem-vindo, é uma felicidade poder falar com você.**\"))\n",
        "display(Markdown(\"Primeiro faremos algumas perguntas para direcionar nossa conversa, não se preocupe será rápido\"))\n",
        "\n",
        "questions = [\n",
        "    \"De que pais você está falando ?\",\n",
        "    \"Voce precisa de ajuda para você ou para outra pessoa?\",\n",
        "    \"Gostaria de apoio a qual tipo de deficiencia?\",\n",
        "    \"Você está enfrentando algum desafio específico no momento?\",\n",
        "]\n",
        "\n",
        "response = \"\"\n",
        "count = 0;\n",
        "responses = []\n",
        "\n",
        "# Loop de perguntas\n",
        "while response.lower() != \"ok\":\n",
        "    if count > 3:\n",
        "        display(Markdown(\"**Para continuarmos digite: ok**\"))\n",
        "        response = input(\"Resposta: \")\n",
        "    else:\n",
        "        display(Markdown(f\"**{questions[count]}**\"))\n",
        "        response = input(\"Resposta: \")\n",
        "        print(\"\\n\")\n",
        "        responses.append(response)\n",
        "        count += 1\n",
        "\n",
        "\n",
        "# Parametrização do modelo\n",
        "guide_prompt = f\"Considere essas informações antes de responder: Minha localidade é {responses[0]}. Responda no idioma dessa localidade, Preciso de ajuda para {responses[1]}. Deficiencia{responses[2]} Pergunta: A pessoa que eu cuido esta tendo uma {responses[3]}, me auxilie no que fazer e depois me de contatos para serviços de apoio em minha localidade\"\n",
        "\n",
        "display(Markdown(f\"**Espero que essas informações te ajudem. Se precisar de qualquer outra informação ou ajuda estarei aqui para auxiliar. Para finalizar a interação digite fim**\\n\"))\n",
        "\n",
        "# Geração das informações\n",
        "guide_response = chat.send_message(guide_prompt)\n",
        "display(Markdown(guide_response.text.replace(\"*\", \"\")))\n",
        "\n",
        "# Interação contínua com o modelo\n",
        "while True:\n",
        "    prompt = input(\"Pergunta: \")\n",
        "    if prompt.lower() == \"fim\":\n",
        "        break\n",
        "    response = chat.send_message(prompt)\n",
        "    display(Markdown(f\"**Resposta:** {response.text.replace('*', '')}\\n\"))\n"
      ],
      "metadata": {
        "colab": {
          "base_uri": "https://localhost:8080/",
          "height": 1000
        },
        "id": "Y4IlPbumxU1f",
        "outputId": "0ad0f211-5c0d-4bb2-fb38-ac09d41ac34b"
      },
      "execution_count": 40,
      "outputs": [
        {
          "output_type": "display_data",
          "data": {
            "text/plain": [
              "<IPython.core.display.Markdown object>"
            ],
            "text/markdown": "**Olá, seja bem-vindo, é uma felicidade poder falar com você.**"
          },
          "metadata": {}
        },
        {
          "output_type": "display_data",
          "data": {
            "text/plain": [
              "<IPython.core.display.Markdown object>"
            ],
            "text/markdown": "Primeiro faremos algumas perguntas para direcionar nossa conversa, não se preocupe será rápido"
          },
          "metadata": {}
        },
        {
          "output_type": "display_data",
          "data": {
            "text/plain": [
              "<IPython.core.display.Markdown object>"
            ],
            "text/markdown": "**De que pais você está falando ?**"
          },
          "metadata": {}
        },
        {
          "output_type": "stream",
          "name": "stdout",
          "text": [
            "Resposta: brasil\n",
            "\n",
            "\n"
          ]
        },
        {
          "output_type": "display_data",
          "data": {
            "text/plain": [
              "<IPython.core.display.Markdown object>"
            ],
            "text/markdown": "**Voce precisa de ajuda para você ou para outra pessoa?**"
          },
          "metadata": {}
        },
        {
          "output_type": "stream",
          "name": "stdout",
          "text": [
            "Resposta: outra pessoa\n",
            "\n",
            "\n"
          ]
        },
        {
          "output_type": "display_data",
          "data": {
            "text/plain": [
              "<IPython.core.display.Markdown object>"
            ],
            "text/markdown": "**Gostaria de apoio a qual tipo de deficiencia?**"
          },
          "metadata": {}
        },
        {
          "output_type": "stream",
          "name": "stdout",
          "text": [
            "Resposta: fisica\n",
            "\n",
            "\n"
          ]
        },
        {
          "output_type": "display_data",
          "data": {
            "text/plain": [
              "<IPython.core.display.Markdown object>"
            ],
            "text/markdown": "**Você está enfrentando algum desafio específico no momento?**"
          },
          "metadata": {}
        },
        {
          "output_type": "stream",
          "name": "stdout",
          "text": [
            "Resposta: adaptacao da casa\n",
            "\n",
            "\n"
          ]
        },
        {
          "output_type": "display_data",
          "data": {
            "text/plain": [
              "<IPython.core.display.Markdown object>"
            ],
            "text/markdown": "**Para continuarmos digite: ok**"
          },
          "metadata": {}
        },
        {
          "name": "stdout",
          "output_type": "stream",
          "text": [
            "Resposta: ok\n"
          ]
        },
        {
          "output_type": "display_data",
          "data": {
            "text/plain": [
              "<IPython.core.display.Markdown object>"
            ],
            "text/markdown": "**Espero que essas informações te ajudem. Se precisar de qualquer outra informação ou ajuda estarei aqui para auxiliar. Para finalizar a interação digite fim**\n"
          },
          "metadata": {}
        },
        {
          "output_type": "display_data",
          "data": {
            "text/plain": [
              "<IPython.core.display.Markdown object>"
            ],
            "text/markdown": "Como Auxiliar na Adaptação da Casa\n\n1. Avaliação das Necessidades:\n\n Observe as necessidades específicas da pessoa, como dificuldades de locomoção, visão ou audição.\n Identifique barreiras arquitetônicas que precisam ser removidas ou adaptadas.\n\n2. Modificações Estruturais:\n\n Instale rampas ou plataformas elevatórias para acesso a diferentes níveis.\n Amplie portas e corredores para facilitar a passagem de cadeiras de rodas.\n Adapte banheiros com barras de apoio, assentos elevados e chuveiros acessíveis.\n Instale corrimãos em escadas e corredores para maior segurança.\n\n3. Adaptações de Equipamentos:\n\n Substitua maçanetas por alavancas ou botões mais fáceis de operar.\n Instale interruptores e tomadas em alturas acessíveis.\n Use móveis ajustáveis para maior conforto e ergonomia.\n Considere aparelhos de automação residencial para controle remoto de luzes, eletrodomésticos e segurança.\n\n4. Iluminação e Sinalização:\n\n Garanta iluminação adequada em todas as áreas da casa.\n Instale sensores de movimento para acender luzes automaticamente.\n Use cores contrastantes ou sinalização tátil para auxiliar pessoas com deficiência visual.\n\n5. Segurança:\n\n Instale barras de apoio e tapetes antiderrapantes no banheiro.\n Verifique a segurança elétrica e de gás.\n Considere um sistema de segurança com sensores de movimento e alarme.\n\nContatos para Serviços de Apoio\n\nAssociações e Organizações:\n\n Associação Brasileira de Assistência à Pessoa com Deficiência (ABAPD): (11) 3826-7900\n Federação Nacional das Associações de Pessoas com Deficiência (Fenapa): (61) 3349-7888\n\nServiços Governamentais:\n\n Secretaria Nacional de Promoção dos Direitos da Pessoa com Deficiência (SNPD): 0800-979-9709\n Centro de Referência em Assistência Social (CRAS): Consulte o site da Prefeitura de sua cidade\n\nEmpresas de Adaptação:\n\n Acessibilidade Total: (11) 3773-1818\n Adaptar: (11) 2691-9866\n Mobilidade Acessível: (11) 3273-3333"
          },
          "metadata": {}
        },
        {
          "name": "stdout",
          "output_type": "stream",
          "text": [
            "Pergunta: fim\n"
          ]
        }
      ]
    }
  ]
}